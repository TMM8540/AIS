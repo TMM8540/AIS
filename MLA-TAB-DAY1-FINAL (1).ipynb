{
 "cells": [
  {
   "cell_type": "markdown",
   "metadata": {},
   "source": [
    "![MLU Logo](../data/MLU_Logo.png)"
   ]
  },
  {
   "cell_type": "markdown",
   "metadata": {},
   "source": [
    "# <a name=\"0\">Machine Learning Accelerator - Tabular Data - Lecture 1</a>\n",
    "\n",
    "\n",
    "## Final Project \n",
    "\n",
    "In this notebook, we build a ML model to predict the __Time at Center__ field of our final project dataset.\n",
    "\n",
    "1. <a href=\"#1\">Read the dataset</a> (Given) \n",
    "2. <a href=\"#2\">Train a model</a> (Implement)\n",
    "    * <a href=\"#21\">Exploratory Data Analysis</a>\n",
    "    * <a href=\"#22\">Select features to build the model</a>\n",
    "    * <a href=\"#23\">Data processing</a>\n",
    "    * <a href=\"#24\">Model training</a>\n",
    "3. <a href=\"#3\">Make predictions on the test dataset</a> (Implement)\n",
    "4. <a href=\"#4\">Write the test predictions to a CSV file</a> (Given)\n",
    "\n",
    "__Austin Animal Center Dataset__:\n",
    "\n",
    "In this exercise, we are working with pet adoption data from __Austin Animal Center__. We have two datasets that cover intake and outcome of animals. Intake data is available from [here](https://data.austintexas.gov/Health-and-Community-Services/Austin-Animal-Center-Intakes/wter-evkm) and outcome is from [here](https://data.austintexas.gov/Health-and-Community-Services/Austin-Animal-Center-Outcomes/9t4d-g238). \n",
    "\n",
    "In order to work with a single table, we joined the intake and outcome tables using the \"Animal ID\" column and created a training.csv, test_features.csv and y_test.csv files. Similar to our review dataset, we didn't consider animals with multiple entries to the facility to keep it simple. If you want to see the original datasets, they are available under data/review folder: Austin_Animal_Center_Intakes.csv, Austin_Animal_Center_Outcomes.csv.\n",
    "\n",
    "__Dataset schema:__ \n",
    "- __Pet ID__ - Unique ID of pet\n",
    "- __Outcome Type__ - State of pet at the time of recording the outcome\n",
    "- __Sex upon Outcome__ - Sex of pet at outcome\n",
    "- __Name__ - Name of pet \n",
    "- __Found Location__ - Found location of pet before entered the center\n",
    "- __Intake Type__ - Circumstances bringing the pet to the center\n",
    "- __Intake Condition__ - Health condition of pet when entered the center\n",
    "- __Pet Type__ - Type of pet\n",
    "- __Sex upon Intake__ - Sex of pet when entered the center\n",
    "- __Breed__ - Breed of pet \n",
    "- __Color__ - Color of pet \n",
    "- __Age upon Intake Days__ - Age of pet when entered the center (days)\n",
    "- __Time at Center__ - Time at center (0 = less than 30 days; 1 = more than 30 days). This is the value to predict. \n"
   ]
  },
  {
   "cell_type": "code",
   "execution_count": 428,
   "metadata": {},
   "outputs": [],
   "source": [
    "#%pip install -q -r ../requirements.txt"
   ]
  },
  {
   "cell_type": "markdown",
   "metadata": {},
   "source": [
    "## 1. <a name=\"1\">Read the datasets</a> (Given)\n",
    "(<a href=\"#0\">Go to top</a>)\n",
    "\n",
    "Let's read the datasets into dataframes, using Pandas."
   ]
  },
  {
   "cell_type": "code",
   "execution_count": 429,
   "metadata": {},
   "outputs": [
    {
     "name": "stdout",
     "output_type": "stream",
     "text": [
      "The shape of the training dataset is: (71538, 13)\n",
      "The shape of the test dataset is: (23846, 12)\n"
     ]
    }
   ],
   "source": [
    "import pandas as pd\n",
    "import numpy as np\n",
    "\n",
    "import warnings\n",
    "warnings.filterwarnings(\"ignore\")\n",
    "  \n",
    "training_data = pd.read_csv('../data/final_project/training.csv')\n",
    "test_data = pd.read_csv('../data/final_project/test_features.csv')\n",
    "\n",
    "print('The shape of the training dataset is:', training_data.shape)\n",
    "print('The shape of the test dataset is:', test_data.shape)\n"
   ]
  },
  {
   "cell_type": "markdown",
   "metadata": {},
   "source": [
    "## 2. <a name=\"2\">Train a model</a> (Implement)\n",
    "(<a href=\"#0\">Go to top</a>)\n",
    "\n",
    " * <a href=\"#21\">Exploratory Data Analysis</a>\n",
    " * <a href=\"#22\">Select features to build the model</a>\n",
    " * <a href=\"#23\">Data processing</a>\n",
    " * <a href=\"#24\">Model training</a>\n",
    "\n",
    "### 2.1 <a name=\"21\">Exploratory Data Analysis</a> \n",
    "(<a href=\"#2\">Go to Train a model</a>)\n",
    "\n",
    "We look at number of rows, columns and some simple statistics of the dataset."
   ]
  },
  {
   "cell_type": "code",
   "execution_count": 430,
   "metadata": {},
   "outputs": [
    {
     "name": "stdout",
     "output_type": "stream",
     "text": [
      "<class 'pandas.core.frame.DataFrame'>\n",
      "RangeIndex: 23846 entries, 0 to 23845\n",
      "Data columns (total 12 columns):\n",
      " #   Column                Non-Null Count  Dtype \n",
      "---  ------                --------------  ----- \n",
      " 0   Pet ID                23846 non-null  object\n",
      " 1   Outcome Type          23846 non-null  object\n",
      " 2   Sex upon Outcome      23846 non-null  object\n",
      " 3   Name                  14733 non-null  object\n",
      " 4   Found Location        23846 non-null  object\n",
      " 5   Intake Type           23846 non-null  object\n",
      " 6   Intake Condition      23846 non-null  object\n",
      " 7   Pet Type              23846 non-null  object\n",
      " 8   Sex upon Intake       23846 non-null  object\n",
      " 9   Breed                 23846 non-null  object\n",
      " 10  Color                 23846 non-null  object\n",
      " 11  Age upon Intake Days  23846 non-null  int64 \n",
      "dtypes: int64(1), object(11)\n",
      "memory usage: 2.2+ MB\n",
      "None\n",
      "\n",
      "Index(['Pet ID', 'Outcome Type', 'Sex upon Outcome', 'Name', 'Found Location',\n",
      "       'Intake Type', 'Intake Condition', 'Pet Type', 'Sex upon Intake',\n",
      "       'Breed', 'Color', 'Age upon Intake Days', 'Time at Center'],\n",
      "      dtype='object')\n"
     ]
    }
   ],
   "source": [
    "#K Nearest Neighbors \n",
    "#training_data.info()\n",
    "#training_data.describe()\n",
    "#training_data.head()\n",
    "print(test_data.info())\n",
    "\n",
    "print(\"\")\n",
    "print(training_data.columns)\n",
    "\n",
    "model_features = training_data.columns.drop('Outcome Type')\n",
    "model_target = 'Outcome Type'"
   ]
  },
  {
   "cell_type": "code",
   "execution_count": 431,
   "metadata": {},
   "outputs": [
    {
     "name": "stdout",
     "output_type": "stream",
     "text": [
      "Numerical columns: Index(['Age upon Intake Days', 'Time at Center'], dtype='object')\n",
      "\n",
      "Categorical columns: Index(['Pet ID', 'Sex upon Outcome', 'Name', 'Found Location', 'Intake Type',\n",
      "       'Intake Condition', 'Pet Type', 'Sex upon Intake', 'Breed', 'Color'],\n",
      "      dtype='object')\n"
     ]
    }
   ],
   "source": [
    "import numpy as np\n",
    "numerical_features_all = training_data[model_features].select_dtypes(include=np.number).columns\n",
    "print('Numerical columns:',numerical_features_all)\n",
    "\n",
    "print('')\n",
    "\n",
    "categorical_features_all = training_data[model_features].select_dtypes(include='object').columns\n",
    "print('Categorical columns:',categorical_features_all)\n",
    "\n"
   ]
  },
  {
   "cell_type": "code",
   "execution_count": 432,
   "metadata": {},
   "outputs": [
    {
     "data": {
      "image/png": "[encoded data removed]",
      "text/plain": [
       "<Figure size 432x288 with 1 Axes>"
      ]
     },
     "metadata": {
      "needs_background": "light"
     },
     "output_type": "display_data"
    },
    {
     "data": {
      "image/png": "[encoded data removed]",
      "text/plain": [
       "<Figure size 432x288 with 1 Axes>"
      ]
     },
     "metadata": {
      "needs_background": "light"
     },
     "output_type": "display_data"
    },
    {
     "data": {
      "text/html": [
       "<div>\n",
       "<style scoped>\n",
       "    .dataframe tbody tr th:only-of-type {\n",
       "        vertical-align: middle;\n",
       "    }\n",
       "\n",
       "    .dataframe tbody tr th {\n",
       "        vertical-align: top;\n",
       "    }\n",
       "\n",
       "    .dataframe thead th {\n",
       "        text-align: right;\n",
       "    }\n",
       "</style>\n",
       "<table border=\"1\" class=\"dataframe\">\n",
       "  <thead>\n",
       "    <tr style=\"text-align: right;\">\n",
       "      <th></th>\n",
       "      <th>Pet ID</th>\n",
       "      <th>Outcome Type</th>\n",
       "      <th>Sex upon Outcome</th>\n",
       "      <th>Name</th>\n",
       "      <th>Found Location</th>\n",
       "      <th>Intake Type</th>\n",
       "      <th>Intake Condition</th>\n",
       "      <th>Pet Type</th>\n",
       "      <th>Sex upon Intake</th>\n",
       "      <th>Breed</th>\n",
       "      <th>Color</th>\n",
       "      <th>Age upon Intake Days</th>\n",
       "    </tr>\n",
       "  </thead>\n",
       "  <tbody>\n",
       "    <tr>\n",
       "      <th>0</th>\n",
       "      <td>A782657</td>\n",
       "      <td>Adoption</td>\n",
       "      <td>Spayed Female</td>\n",
       "      <td>NaN</td>\n",
       "      <td>1911 Dear Run Drive in Austin (TX)</td>\n",
       "      <td>Stray</td>\n",
       "      <td>Normal</td>\n",
       "      <td>Dog</td>\n",
       "      <td>Intact Female</td>\n",
       "      <td>Labrador Retriever Mix</td>\n",
       "      <td>Black</td>\n",
       "      <td>60</td>\n",
       "    </tr>\n",
       "    <tr>\n",
       "      <th>1</th>\n",
       "      <td>A804622</td>\n",
       "      <td>Adoption</td>\n",
       "      <td>Neutered Male</td>\n",
       "      <td>NaN</td>\n",
       "      <td>702 Grand Canyon in Austin (TX)</td>\n",
       "      <td>Stray</td>\n",
       "      <td>Normal</td>\n",
       "      <td>Dog</td>\n",
       "      <td>Intact Male</td>\n",
       "      <td>Boxer/Anatol Shepherd</td>\n",
       "      <td>Brown/Tricolor</td>\n",
       "      <td>60</td>\n",
       "    </tr>\n",
       "    <tr>\n",
       "      <th>2</th>\n",
       "      <td>A786693</td>\n",
       "      <td>Return to Owner</td>\n",
       "      <td>Neutered Male</td>\n",
       "      <td>Zeus</td>\n",
       "      <td>Austin (TX)</td>\n",
       "      <td>Public Assist</td>\n",
       "      <td>Normal</td>\n",
       "      <td>Dog</td>\n",
       "      <td>Neutered Male</td>\n",
       "      <td>Australian Cattle Dog/Pit Bull</td>\n",
       "      <td>Black/White</td>\n",
       "      <td>3285</td>\n",
       "    </tr>\n",
       "    <tr>\n",
       "      <th>3</th>\n",
       "      <td>A693330</td>\n",
       "      <td>Adoption</td>\n",
       "      <td>Spayed Female</td>\n",
       "      <td>Hope</td>\n",
       "      <td>Levander Loop &amp; Airport Blvd in Austin (TX)</td>\n",
       "      <td>Stray</td>\n",
       "      <td>Normal</td>\n",
       "      <td>Dog</td>\n",
       "      <td>Intact Female</td>\n",
       "      <td>Miniature Poodle</td>\n",
       "      <td>Gray</td>\n",
       "      <td>1825</td>\n",
       "    </tr>\n",
       "    <tr>\n",
       "      <th>4</th>\n",
       "      <td>A812431</td>\n",
       "      <td>Adoption</td>\n",
       "      <td>Neutered Male</td>\n",
       "      <td>NaN</td>\n",
       "      <td>Austin (TX)</td>\n",
       "      <td>Owner Surrender</td>\n",
       "      <td>Injured</td>\n",
       "      <td>Cat</td>\n",
       "      <td>Intact Male</td>\n",
       "      <td>Domestic Shorthair</td>\n",
       "      <td>Blue/White</td>\n",
       "      <td>210</td>\n",
       "    </tr>\n",
       "  </tbody>\n",
       "</table>\n",
       "</div>"
      ],
      "text/plain": [
       "    Pet ID     Outcome Type Sex upon Outcome  Name  \\\n",
       "0  A782657         Adoption    Spayed Female   NaN   \n",
       "1  A804622         Adoption    Neutered Male   NaN   \n",
       "2  A786693  Return to Owner    Neutered Male  Zeus   \n",
       "3  A693330         Adoption    Spayed Female  Hope   \n",
       "4  A812431         Adoption    Neutered Male   NaN   \n",
       "\n",
       "                                Found Location      Intake Type  \\\n",
       "0           1911 Dear Run Drive in Austin (TX)            Stray   \n",
       "1              702 Grand Canyon in Austin (TX)            Stray   \n",
       "2                                  Austin (TX)    Public Assist   \n",
       "3  Levander Loop & Airport Blvd in Austin (TX)            Stray   \n",
       "4                                  Austin (TX)  Owner Surrender   \n",
       "\n",
       "  Intake Condition Pet Type Sex upon Intake                           Breed  \\\n",
       "0           Normal      Dog   Intact Female          Labrador Retriever Mix   \n",
       "1           Normal      Dog     Intact Male           Boxer/Anatol Shepherd   \n",
       "2           Normal      Dog   Neutered Male  Australian Cattle Dog/Pit Bull   \n",
       "3           Normal      Dog   Intact Female                Miniature Poodle   \n",
       "4          Injured      Cat     Intact Male              Domestic Shorthair   \n",
       "\n",
       "            Color  Age upon Intake Days  \n",
       "0           Black                    60  \n",
       "1  Brown/Tricolor                    60  \n",
       "2     Black/White                  3285  \n",
       "3            Gray                  1825  \n",
       "4      Blue/White                   210  "
      ]
     },
     "execution_count": 432,
     "metadata": {},
     "output_type": "execute_result"
    }
   ],
   "source": [
    "import matplotlib.pyplot as plt\n",
    "%matplotlib inline\n",
    "\n",
    "test_data[model_target].value_counts().plot.bar()\n",
    "plt.show()\n",
    "\n",
    "training_data[model_target].value_counts().plot.bar()\n",
    "plt.show()\n",
    "\n",
    "training_data.head()\n",
    "test_data.head()\n",
    "#This seems to be a pretty unbalanced data set since the pool\n",
    "#for adoption and transfer is much larger than the other outcomes\n",
    "#how can I predict an outcome for 7 values in the test set\n",
    "#that are not in the trianing set"
   ]
  },
  {
   "cell_type": "markdown",
   "metadata": {},
   "source": [
    "### 2.2 <a name=\"22\">Select features to build the model</a> \n",
    "(<a href=\"#2\">Go to Train a model</a>)\n"
   ]
  },
  {
   "cell_type": "code",
   "execution_count": 433,
   "metadata": {},
   "outputs": [
    {
     "name": "stdout",
     "output_type": "stream",
     "text": [
      "Age upon Intake Days\n"
     ]
    },
    {
     "data": {
      "image/png": "[encoded data removed]",
      "text/plain": [
       "<Figure size 432x288 with 1 Axes>"
      ]
     },
     "metadata": {
      "needs_background": "light"
     },
     "output_type": "display_data"
    },
    {
     "name": "stdout",
     "output_type": "stream",
     "text": [
      "Time at Center\n"
     ]
    },
    {
     "data": {
      "image/png": "[encoded data removed]",
      "text/plain": [
       "<Figure size 432x288 with 1 Axes>"
      ]
     },
     "metadata": {
      "needs_background": "light"
     },
     "output_type": "display_data"
    },
    {
     "name": "stdout",
     "output_type": "stream",
     "text": [
      "(-9.126, 912.5]     56111\n",
      "(912.5, 1825.0]      7948\n",
      "(1825.0, 2737.5]     2596\n",
      "(2737.5, 3650.0]     2973\n",
      "(3650.0, 4562.5]      954\n",
      "(4562.5, 5475.0]      757\n",
      "(5475.0, 6387.5]      135\n",
      "(6387.5, 7300.0]       59\n",
      "(7300.0, 8212.5]        3\n",
      "(8212.5, 9125.0]        2\n",
      "Name: Age upon Intake Days, dtype: int64\n",
      "\n",
      "(-0.002, 0.1]    65314\n",
      "(0.1, 0.2]           0\n",
      "(0.2, 0.3]           0\n",
      "(0.3, 0.4]           0\n",
      "(0.4, 0.5]           0\n",
      "(0.5, 0.6]           0\n",
      "(0.6, 0.7]           0\n",
      "(0.7, 0.8]           0\n",
      "(0.8, 0.9]           0\n",
      "(0.9, 1.0]        6224\n",
      "Name: Time at Center, dtype: int64\n"
     ]
    }
   ],
   "source": [
    "for c in numerical_features_all:\n",
    "    print(c)\n",
    "    training_data[c].plot.hist(bins=10)\n",
    "    plt.show()\n",
    "#A few values on the very end might be outliers but mostly reasonable for age\n",
    "\n",
    "print(training_data['Age upon Intake Days'].value_counts(bins=10, sort=False))\n",
    "\n",
    "print(\"\")\n",
    "print(training_data[c].value_counts(bins=10, sort=False))\n",
    "#the data in the higher age ranges probably are outliers\n",
    "#I will cap the maximum age range at 3650 days since I suspect\n",
    "#most pets that are that old would be treated the same\n",
    "\n",
    "\n",
    "\n",
    "\n",
    "\n",
    "numerical_features = 'Age upon Intake Days'"
   ]
  },
  {
   "cell_type": "markdown",
   "metadata": {},
   "source": [
    "### 2.3 <a name=\"23\">Data Processing</a> \n",
    "(<a href=\"#2\">Go to Train a model</a>)\n"
   ]
  },
  {
   "cell_type": "code",
   "execution_count": 434,
   "metadata": {
    "scrolled": true
   },
   "outputs": [
    {
     "name": "stdout",
     "output_type": "stream",
     "text": [
      "Training set shape: (71538, 13)\n",
      "Class 0 samples in the training set: 29796\n",
      "Class 1 samples in the training set: 24258\n",
      "Class 2 samples in the training set: 10288\n",
      "Class 3 samples in the training set: 5689\n",
      "Class 4 samples in the training set: 806\n",
      "Class 5 samples in the training set: 0\n",
      "Class 6 samples in the training set: 37\n",
      "Class 7 samples in the training set: 11\n",
      "\n",
      "\n",
      "Class 0 samples in the test set: 9938\n",
      "Class 1 samples in the test set: 8041\n",
      "Class 2 samples in the test set: 3431\n",
      "Class 3 samples in the test set: 1941\n",
      "Class 4 samples in the test set: 247\n",
      "Class 5 samples in the test set: 0\n",
      "Class 6 samples in the test set: 15\n",
      "Class 7 samples in the test set: 9\n"
     ]
    }
   ],
   "source": [
    "#new_training_data = training_data[(training_data['Age upon Intake Days'] < 3651)]\n",
    "\n",
    "print('Training set shape:', training_data.shape)\n",
    "\n",
    "print('Class 0 samples in the training set:', sum(training_data[model_target] == 'Adoption'))\n",
    "print('Class 1 samples in the training set:', sum(training_data[model_target] == 'Transfer'))\n",
    "print('Class 2 samples in the training set:', sum(training_data[model_target] == 'Return to Owner'))\n",
    "print('Class 3 samples in the training set:', sum(training_data[model_target] == 'Euthanasia'))\n",
    "print('Class 4 samples in the training set:', sum(training_data[model_target] == 'Died'))\n",
    "print('Class 5 samples in the training set:', sum(training_data[model_target] == 'Rto-adopt'))\n",
    "print('Class 6 samples in the training set:', sum(training_data[model_target] == 'Missing'))\n",
    "print('Class 7 samples in the training set:', sum(training_data[model_target] == 'Relocate'))\n",
    "\n",
    "print(\"\")\n",
    "print(\"\")\n",
    "\n",
    "print('Class 0 samples in the test set:', sum(test_data[model_target] == 'Adoption'))\n",
    "print('Class 1 samples in the test set:', sum(test_data[model_target] == 'Transfer'))\n",
    "print('Class 2 samples in the test set:', sum(test_data[model_target] == 'Return to Owner'))\n",
    "print('Class 3 samples in the test set:', sum(test_data[model_target] == 'Euthanasia'))\n",
    "print('Class 4 samples in the test set:', sum(test_data[model_target] == 'Died'))\n",
    "print('Class 5 samples in the test set:', sum(test_data[model_target] == 'Rto-adopt'))\n",
    "print('Class 6 samples in the test set:', sum(test_data[model_target] == 'Missing'))\n",
    "print('Class 7 samples in the test set:', sum(test_data[model_target] == 'Relocate'))\n",
    "\n",
    "from sklearn.utils import shuffle\n",
    "\n",
    "class_0_no = training_data[training_data[model_target] == 'Adoption']\n",
    "class_1_no = training_data[training_data[model_target] == 'Transfer']\n",
    "class_2_no = training_data[training_data[model_target] == 'Return to Owner']\n",
    "class_3_no = training_data[training_data[model_target] == 'Euthanasia']\n",
    "class_4_no = training_data[training_data[model_target] == 'Died']\n",
    "#class_5_no = training_data[training_data[model_target] == 'Rto-adopt']\n",
    "class_6_no = training_data[training_data[model_target] == 'Missing']\n",
    "class_7_no = training_data[training_data[model_target] == 'Relocate']\n",
    "\n",
    "\n",
    "upsampled_class_1_no = class_1_no.sample(n=len(class_0_no), replace=True, random_state=42)\n",
    "upsampled_class_2_no = class_2_no.sample(n=len(class_0_no), replace=True, random_state=42)\n",
    "upsampled_class_3_no = class_3_no.sample(n=len(class_0_no), replace=True, random_state=42)\n",
    "upsampled_class_4_no = class_4_no.sample(n=len(class_0_no), replace=True, random_state=42)\n",
    "#upsampled_class_5_no = class_5_no.sample(n=len(class_0_no), replace=True, random_state=42)\n",
    "upsampled_class_6_no = class_6_no.sample(n=len(class_0_no), replace=True, random_state=42)\n",
    "upsampled_class_7_no = class_7_no.sample(n=len(class_0_no), replace=True, random_state=42)\n",
    "\n",
    "training_data = pd.concat([class_0_no, upsampled_class_1_no,upsampled_class_2_no,upsampled_class_3_no,upsampled_class_4_no,upsampled_class_6_no\n",
    "                         ,upsampled_class_7_no])\n",
    "training_data = shuffle(training_data)\n",
    "#print(\"\")\n",
    "#print('Class 0 samples in the training set:', sum(training_data[model_target] == 'Transfer'))\n",
    "#print('Class 1 samples in the training set:', sum(training_data[model_target] == 'Adoption'))\n",
    "#print('Class 2 samples in the training set:', sum(training_data[model_target] == 'Return to Owner'))\n",
    "#print('Class 3 samples in the training set:', sum(training_data[model_target] == 'Euthanasia'))\n",
    "#print('Class 4 samples in the training set:', sum(training_data[model_target] == 'Died'))\n",
    "#print('Class 6 samples in the training set:', sum(training_data[model_target] == 'Missing'))\n",
    "#print('Class 7 samples in the training set:', sum(training_data[model_target] == 'Relocate'))\n"
   ]
  },
  {
   "cell_type": "markdown",
   "metadata": {},
   "source": [
    "### 2.4 <a name=\"24\">Model training</a> \n",
    "(<a href=\"#2\">Go to Train a model</a>)\n"
   ]
  },
  {
   "cell_type": "code",
   "execution_count": 435,
   "metadata": {
    "scrolled": true
   },
   "outputs": [],
   "source": [
    "from sklearn.impute import SimpleImputer\n",
    "from sklearn.preprocessing import MinMaxScaler\n",
    "from sklearn.neighbors import KNeighborsClassifier\n",
    "from sklearn.pipeline import Pipeline\n",
    "\n",
    "classifier = Pipeline([\n",
    "    ('imputer', SimpleImputer(strategy='mean')),\n",
    "    ('scaler', MinMaxScaler()),\n",
    "    ('estimator', KNeighborsClassifier(n_neighbors = 200))\n",
    "])\n",
    "\n",
    "\n",
    "from sklearn import set_config\n",
    "set_config(display='diagram')\n",
    "classifier\n",
    "\n",
    "\n",
    "\n",
    "X_train = training_data[numerical_features]\n",
    "y_train = training_data[model_target]\n",
    "\n",
    "X_train = X_train.values.reshape(-1,1)\n",
    "y_train = y_train.values.reshape(-1,1)\n",
    "\n",
    "classifier.fit(X_train, y_train)\n",
    "predictions = classifier.predict(X_test.values.reshape(-1,1))\n"
   ]
  },
  {
   "cell_type": "markdown",
   "metadata": {},
   "source": [
    "## 3. <a name=\"3\">Make predictions on the test dataset</a> (Implement)\n",
    "(<a href=\"#0\">Go to top</a>)\n",
    "\n",
    "Use the test set to make predictions with the trained model."
   ]
  },
  {
   "cell_type": "code",
   "execution_count": 436,
   "metadata": {},
   "outputs": [
    {
     "name": "stdout",
     "output_type": "stream",
     "text": [
      "Model performance on the test set:\n",
      "[[3799  212    0 2923  155  735 1570    0  544]\n",
      " [  43   29    0   64   14   33   35    0   29]\n",
      " [   5    1    0  101    1   12    9    0    1]\n",
      " [ 160   60    0 1119   10  142  407    0   43]\n",
      " [   3    0    0    3    0    5    3    0    1]\n",
      " [   0    0    0    5    0    3    0    0    1]\n",
      " [ 212   76    0 1236   35   45 1773    0   54]\n",
      " [   8    1    0   37    0    2   44    0    2]\n",
      " [1775  556    0 2474  213  493 1298    0 1232]]\n",
      "                 precision    recall  f1-score   support\n",
      "\n",
      "       Adoption       0.63      0.38      0.48      9938\n",
      "           Died       0.03      0.12      0.05       247\n",
      "       Disposal       0.00      0.00      0.00       130\n",
      "     Euthanasia       0.14      0.58      0.23      1941\n",
      "        Missing       0.00      0.00      0.00        15\n",
      "       Relocate       0.00      0.33      0.00         9\n",
      "Return to Owner       0.35      0.52      0.41      3431\n",
      "      Rto-Adopt       0.00      0.00      0.00        94\n",
      "       Transfer       0.65      0.15      0.25      8041\n",
      "\n",
      "       accuracy                           0.33     23846\n",
      "      macro avg       0.20      0.23      0.16     23846\n",
      "   weighted avg       0.54      0.33      0.36     23846\n",
      "\n",
      "Test accuracy: 0.33359892644468675\n"
     ]
    }
   ],
   "source": [
    "from sklearn.metrics import confusion_matrix, classification_report, accuracy_score, f1_score\n",
    "\n",
    "X_test = test_data[numerical_features]\n",
    "y_test = test_data[model_target]\n",
    "\n",
    "test_predictions = classifier.predict(X_test.values.reshape(-1,1))\n",
    "\n",
    "print('Model performance on the test set:')\n",
    "print(confusion_matrix(y_test, test_predictions))\n",
    "print(classification_report(y_test, test_predictions))\n",
    "print(\"Test accuracy:\", accuracy_score(y_test, test_predictions))"
   ]
  },
  {
   "cell_type": "code",
   "execution_count": null,
   "metadata": {},
   "outputs": [],
   "source": []
  }
 ],
 "metadata": {
  "kernelspec": {
   "display_name": "Python 3",
   "language": "python",
   "name": "python3"
  },
  "language_info": {
   "codemirror_mode": {
    "name": "ipython",
    "version": 3
   },
   "file_extension": ".py",
   "mimetype": "text/x-python",
   "name": "python",
   "nbconvert_exporter": "python",
   "pygments_lexer": "ipython3",
   "version": "3.8.8"
  }
 },
 "nbformat": 4,
 "nbformat_minor": 2
}
